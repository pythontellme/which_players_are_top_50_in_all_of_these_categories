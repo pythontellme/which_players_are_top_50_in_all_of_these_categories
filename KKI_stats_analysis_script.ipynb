{
 "cells": [
  {
   "cell_type": "markdown",
   "metadata": {},
   "source": [
    "## Import csv file into dataframe"
   ]
  },
  {
   "cell_type": "code",
   "execution_count": null,
   "metadata": {},
   "outputs": [],
   "source": [
    "\"\"\"\n",
    "A script analyzing basketball stats in csv file\n",
    "into dataframe and cleaning data\n",
    "\"\"\"\n",
    "\n",
    "import pandas as pd\n",
    "import KKI_stats_module as ksm\n",
    "\n",
    "# Dataframe settings\n",
    "pd.set_option('display.max_rows', 200)\n",
    "pd.options.display.float_format = '{:,.1f}'.format\n",
    "\n",
    "# Put excel sheet into dataframe\n",
    "df = pd.read_csv('clean_stat_data.csv')\n",
    "\n",
    "top = 50"
   ]
  },
  {
   "cell_type": "markdown",
   "metadata": {},
   "source": [
    "## Category leaders"
   ]
  },
  {
   "cell_type": "code",
   "execution_count": null,
   "metadata": {},
   "outputs": [],
   "source": [
    "''' Category leaders '''\n",
    "\n",
    "# Points per minute leader\n",
    "df_pts = ksm.top_per_40_min(df, 'Player', 'Pts', 40).head(top)\n",
    "# print(df_pts.to_string(index=True))\n",
    "\n",
    "# Rebounds per minute leader\n",
    "df_reb = ksm.top_per_40_min(df, 'Player', 'Tot reb', 40).head(top)\n",
    "# print(df_reb.to_string(index=True))\n",
    "\n",
    "# Assists per minute leader\n",
    "df_assists = ksm.top_per_40_min(df, 'Player', 'Assists', 40).head(top)\n",
    "# print(df_assists.to_string(index=True))"
   ]
  },
  {
   "cell_type": "markdown",
   "metadata": {},
   "source": [
    "## Shooting efficiency"
   ]
  },
  {
   "cell_type": "code",
   "execution_count": null,
   "metadata": {},
   "outputs": [],
   "source": [
    "''' Shooting percentage leader '''\n",
    "pd.options.display.float_format = '{:,.2f}'.format\n",
    "\n",
    "df_shooters = df.fillna(0).groupby('Player', as_index = False).sum()\n",
    "df_shooters['Shots attempted'] = df_shooters['2a'] + df_shooters['3a'] + df_shooters['Fta']\n",
    "df_shooters['Shots made - weighted'] = df_shooters['2m'] + df_shooters['3m']*1.5 + df_shooters['Ftm']*0.5\n",
    "df_shooters['Effective shooting %'] = df_shooters['Shots made - weighted'] / df_shooters['Shots attempted']\n",
    "# print(df_shooters)\n",
    "\n",
    "# Sort\n",
    "df_shooters = df_shooters.sort_values(by=['Effective shooting %'], ascending = False)[['Player', 'Effective shooting %', 'Shots attempted']]\n",
    "\n",
    "# Filter shooters that shot less than 40 shots total during season\n",
    "df_shooters = df_shooters[df_shooters['Shots attempted'] >= 40]\n",
    "df_shooters.index = range(1,len(df_shooters)+1)\n",
    "df_shooters = df_shooters.head(top)\n",
    "# print(df_shooters)"
   ]
  },
  {
   "cell_type": "markdown",
   "metadata": {},
   "source": [
    "## Merge lists"
   ]
  },
  {
   "cell_type": "code",
   "execution_count": null,
   "metadata": {},
   "outputs": [],
   "source": [
    "''' Merged lists '''\n",
    "\n",
    "# Merged list of pts and rebounds\n",
    "df_pts_reb = pd.merge(df_pts, df_reb, on=['Player', 'Minutes'], how='inner')\n",
    "# print(df_pts_reb)\n",
    "\n",
    "# Merged list of pts, rebounds and assists\n",
    "df_pts_reb_assists = pd.merge(df_pts_reb, df_assists, on=['Player', 'Minutes'], how='inner')\n",
    "# print(df_pts_reb_assists)\n",
    "\n",
    "# Merged list of pts, rebounds, assists and eff shooting %\n",
    "df_pts_reb_assists_shooting = pd.merge(df_pts_reb_assists, df_shooters, on=['Player'], how='inner')\n",
    "df_pts_reb_assists_shooting.index = range(1,len(df_pts_reb_assists_shooting)+1)\n",
    "print(df_pts_reb_assists_shooting[['Pts per 40 min', 'Tot reb per 40 min', 'Assists per 40 min', 'Effective shooting %']])"
   ]
  },
  {
   "cell_type": "code",
   "execution_count": null,
   "metadata": {},
   "outputs": [],
   "source": []
  }
 ],
 "metadata": {
  "kernelspec": {
   "display_name": "Python 3",
   "language": "python",
   "name": "python3"
  },
  "language_info": {
   "codemirror_mode": {
    "name": "ipython",
    "version": 3
   },
   "file_extension": ".py",
   "mimetype": "text/x-python",
   "name": "python",
   "nbconvert_exporter": "python",
   "pygments_lexer": "ipython3",
   "version": "3.8.1"
  }
 },
 "nbformat": 4,
 "nbformat_minor": 4
}
